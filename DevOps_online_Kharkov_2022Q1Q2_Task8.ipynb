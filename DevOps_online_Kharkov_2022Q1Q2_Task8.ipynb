{
  "nbformat": 4,
  "nbformat_minor": 0,
  "metadata": {
    "colab": {
      "name": "DevOps_online_Kharkov_2022Q1Q2_Task8.ipynb",
      "provenance": [],
      "authorship_tag": "ABX9TyPQXV2ASFZ4LRA4kVI5nhAF",
      "include_colab_link": true
    },
    "kernelspec": {
      "name": "python3",
      "display_name": "Python 3"
    },
    "language_info": {
      "name": "python"
    }
  },
  "cells": [
    {
      "cell_type": "markdown",
      "metadata": {
        "id": "view-in-github",
        "colab_type": "text"
      },
      "source": [
        "<a href=\"https://colab.research.google.com/github/morovol/DevOps_online_Kharkov_2022Q1Q2/blob/main/DevOps_online_Kharkov_2022Q1Q2_Task8.ipynb\" target=\"_parent\"><img src=\"https://colab.research.google.com/assets/colab-badge.svg\" alt=\"Open In Colab\"/></a>"
      ]
    },
    {
      "cell_type": "code",
      "execution_count": 4,
      "metadata": {
        "colab": {
          "base_uri": "https://localhost:8080/"
        },
        "id": "L25KYb5AjvdJ",
        "outputId": "9c13a857-7deb-4da8-a961-cacb1b4bc5f2"
      },
      "outputs": [
        {
          "output_type": "stream",
          "name": "stdout",
          "text": [
            "2022-05-20 08:32:53.555247\n"
          ]
        }
      ],
      "source": [
        "# Write easy program, which will display current date and time.\n",
        "import datetime\n",
        "curentTime = datetime.datetime.now()\n",
        "print(curentTime)"
      ]
    },
    {
      "cell_type": "code",
      "source": [
        "# Write python program, which will accept comma-separated numbers, and then it\n",
        "#should write tuple and list of them:\n",
        "curentData = input('Enter few numbers throw comma: ')\n",
        "list_text = curentData.split(',')\n",
        "print(\"List:\",list_text)\n",
        "print(\"Tuple:\",tuple(list_text))\n"
      ],
      "metadata": {
        "colab": {
          "base_uri": "https://localhost:8080/"
        },
        "id": "lKkknp_KmTli",
        "outputId": "af1af8f5-09fc-4aff-98dd-042512c70b92"
      },
      "execution_count": 15,
      "outputs": [
        {
          "output_type": "stream",
          "name": "stdout",
          "text": [
            "Enter few numbers throw comma: 1,15,12,46\n",
            "List: ['1', '15', '12', '46']\n",
            "Tuple: ('1', '15', '12', '46')\n"
          ]
        }
      ]
    },
    {
      "cell_type": "code",
      "source": [
        "# Write python program, which will ask file name. File should be read, and only even\n",
        "# lines should be shown.\n",
        "nameFile = input('Enter file name: ')\n",
        "f = open(nameFile, 'r')\n",
        "data = f.read()\n",
        "print(data)\n",
        "f.close()\n"
      ],
      "metadata": {
        "colab": {
          "base_uri": "https://localhost:8080/"
        },
        "id": "qZKQMKOft9_p",
        "outputId": "59374228-ecbc-4dfc-9f75-af64f9fd98b7"
      },
      "execution_count": 22,
      "outputs": [
        {
          "output_type": "stream",
          "name": "stdout",
          "text": [
            "Enter file name: README.md\n",
            "This directory includes a few sample datasets to get you started.\n",
            "\n",
            "*   `california_housing_data*.csv` is California housing data from the 1990 US\n",
            "    Census; more information is available at:\n",
            "    https://developers.google.com/machine-learning/crash-course/california-housing-data-description\n",
            "\n",
            "*   `mnist_*.csv` is a small sample of the\n",
            "    [MNIST database](https://en.wikipedia.org/wiki/MNIST_database), which is\n",
            "    described at: http://yann.lecun.com/exdb/mnist/\n",
            "\n",
            "*   `anscombe.json` contains a copy of\n",
            "    [Anscombe's quartet](https://en.wikipedia.org/wiki/Anscombe%27s_quartet); it\n",
            "    was originally described in\n",
            "\n",
            "    Anscombe, F. J. (1973). 'Graphs in Statistical Analysis'. American\n",
            "    Statistician. 27 (1): 17-21. JSTOR 2682899.\n",
            "\n",
            "    and our copy was prepared by the\n",
            "    [vega_datasets library](https://github.com/altair-viz/vega_datasets/blob/4f67bdaad10f45e3549984e17e1b3088c731503d/vega_datasets/_data/anscombe.json).\n",
            "\n"
          ]
        }
      ]
    },
    {
      "cell_type": "code",
      "source": [
        "# Write python program, which should read html document, parse it, and show it’s\n",
        "# title.\n",
        "from urllib.request import urlopen\n",
        "from bs4 import BeautifulSoup\n",
        "html = urlopen('http://morovol.pp.ua')\n",
        "bs = BeautifulSoup(html.read(), 'html.parser')\n",
        "title = bs.find_all('title')\n",
        "for t in title:\n",
        "  print(t.get_text())"
      ],
      "metadata": {
        "colab": {
          "base_uri": "https://localhost:8080/"
        },
        "id": "TJ4dWppozh4n",
        "outputId": "58e8e265-63d6-419f-8e54-55e13e882682"
      },
      "execution_count": 25,
      "outputs": [
        {
          "output_type": "stream",
          "name": "stdout",
          "text": [
            "EPAM DevOps online Winter 2022\n"
          ]
        }
      ]
    },
    {
      "cell_type": "code",
      "source": [
        "# Write python program, which will parse user’s text, and replace some emotions with\n",
        "# emoji’s (Look: pip install emoji)\n",
        "from emoji import emojize\n",
        "user_text = input(\"write your text: \")\n",
        "user_text = user_text.replace(':)', ':smile:')\n",
        "user_text = user_text.replace('love', ':red_heart:')\n",
        "user_text = user_text.replace('ok', ':thumbs_up:')\n",
        "\n",
        "print(emojize(user_text))"
      ],
      "metadata": {
        "colab": {
          "base_uri": "https://localhost:8080/"
        },
        "id": "Ee79mteC5uKl",
        "outputId": "d5277f13-a6c7-414a-a281-f4111d15f450"
      },
      "execution_count": 31,
      "outputs": [
        {
          "output_type": "stream",
          "name": "stdout",
          "text": [
            "write your text: love\n",
            "❤️\n"
          ]
        }
      ]
    },
    {
      "cell_type": "code",
      "source": [
        "# Write program, that will show basic PC information (OS, RAM amount, HDD’s, and\n",
        "# etc.)\n",
        "import platform\n",
        "import psutil\n",
        "print(platform.uname())\n",
        "print('RAM amount', psutil.virtual_memory())\n",
        "print('HDD ', psutil.disk_partitions())"
      ],
      "metadata": {
        "colab": {
          "base_uri": "https://localhost:8080/"
        },
        "id": "DCSriIYe8Hpi",
        "outputId": "b1598991-f509-4820-f2e3-5cbc25cf172b"
      },
      "execution_count": 48,
      "outputs": [
        {
          "output_type": "stream",
          "name": "stdout",
          "text": [
            "uname_result(system='Linux', node='f33bed09c530', release='5.4.188+', version='#1 SMP Sun Apr 24 10:03:06 PDT 2022', machine='x86_64', processor='x86_64')\n",
            "RAM amount svmem(total=13617745920, available=12658511872, percent=7.0, used=752451584, free=10785185792, active=1163595776, inactive=1467191296, buffers=124702720, cached=1955405824, shared=1232896, slab=142442496)\n",
            "HDD  [sdiskpart(device='/dev/root', mountpoint='/sbin/docker-init', fstype='ext2', opts='ro,relatime'), sdiskpart(device='/dev/sda1', mountpoint='/etc/resolv.conf', fstype='ext4', opts='rw,nosuid,nodev,relatime,commit=30'), sdiskpart(device='/dev/sda1', mountpoint='/etc/hostname', fstype='ext4', opts='rw,nosuid,nodev,relatime,commit=30'), sdiskpart(device='/dev/sda1', mountpoint='/etc/hosts', fstype='ext4', opts='rw,nosuid,nodev,relatime,commit=30')]\n"
          ]
        }
      ]
    }
  ]
}